{
  "nbformat": 4,
  "nbformat_minor": 0,
  "metadata": {
    "colab": {
      "provenance": [],
      "collapsed_sections": []
    },
    "kernelspec": {
      "name": "python3",
      "display_name": "Python 3"
    },
    "language_info": {
      "name": "python"
    }
  },
  "cells": [
    {
      "cell_type": "markdown",
      "source": [
        "Exercise: Please parse a website using aiohttp module and write the conntent to file with aiofiles module"
      ],
      "metadata": {
        "id": "8Pb3JP67Lljs"
      }
    },
    {
      "cell_type": "code",
      "execution_count": null,
      "metadata": {
        "id": "rHW-UIt87KyH"
      },
      "outputs": [],
      "source": [
        "!pip install nest_asyncio --quiet\n",
        "!pip install aiofiles --quiet"
      ]
    },
    {
      "cell_type": "code",
      "source": [
        "import nest_asyncio\n",
        "nest_asyncio.apply()"
      ],
      "metadata": {
        "id": "2BCfT5O57ZUD"
      },
      "execution_count": null,
      "outputs": []
    },
    {
      "cell_type": "code",
      "source": [
        "import time\n",
        "\n",
        "import aiohttp\n",
        "import asyncio\n",
        "import aiofiles"
      ],
      "metadata": {
        "id": "INVBE1m97btr"
      },
      "execution_count": null,
      "outputs": []
    },
    {
      "cell_type": "code",
      "source": [
        "async def download_html(url, filename):\n",
        "  async with aiohttp.ClientSession() as session:\n",
        "    html = await session.get(url)\n",
        "\n",
        "    async with aiofiles.open(filename, 'wb') as f:\n",
        "      while True:\n",
        "          chunk = await html.content.read(1024)\n",
        "          if not chunk:\n",
        "            break\n",
        "          await f.write(chunk)\n",
        "      return await html.release()"
      ],
      "metadata": {
        "id": "cszUdUQB7cMG"
      },
      "execution_count": null,
      "outputs": []
    },
    {
      "cell_type": "code",
      "source": [
        "%%timeit\n",
        "\n",
        "loop = asyncio.get_event_loop()\n",
        "loop.run_until_complete(download_html(url='http://python.org', filename='/content/python.html'))"
      ],
      "metadata": {
        "colab": {
          "base_uri": "https://localhost:8080/"
        },
        "id": "Ux7VvaRPIcDT",
        "outputId": "1deb74ea-a096-49da-da07-009113033f34"
      },
      "execution_count": null,
      "outputs": [
        {
          "output_type": "stream",
          "name": "stdout",
          "text": [
            "76.3 ms ± 3.72 ms per loop (mean ± std. dev. of 7 runs, 10 loops each)\n"
          ]
        }
      ]
    },
    {
      "cell_type": "code",
      "source": [
        "with open('/content/python.html', 'rb') as f:\n",
        "  html_content = f.read()"
      ],
      "metadata": {
        "id": "F7JmshL-Kmfx"
      },
      "execution_count": null,
      "outputs": []
    },
    {
      "cell_type": "code",
      "source": [
        "html_content[:100]"
      ],
      "metadata": {
        "colab": {
          "base_uri": "https://localhost:8080/"
        },
        "id": "h_rSXIMALETk",
        "outputId": "1da0e964-bf03-447b-e365-5f2c98774fd4"
      },
      "execution_count": null,
      "outputs": [
        {
          "output_type": "execute_result",
          "data": {
            "text/plain": [
              "b'<!doctype html>\\n<!--[if lt IE 7]>   <html class=\"no-js ie6 lt-ie7 lt-ie8 lt-ie9\">   <![endif]-->\\n<!-'"
            ]
          },
          "metadata": {},
          "execution_count": 30
        }
      ]
    }
  ]
}
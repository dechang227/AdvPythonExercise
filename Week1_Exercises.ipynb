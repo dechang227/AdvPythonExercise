{
 "cells": [
  {
   "cell_type": "markdown",
   "metadata": {
    "id": "W9WNVv9iUm0X"
   },
   "source": [
    "## Numpy"
   ]
  },
  {
   "cell_type": "code",
   "execution_count": 1,
   "metadata": {
    "id": "sxi83B8qUpv5"
   },
   "outputs": [],
   "source": [
    "import numpy as np"
   ]
  },
  {
   "cell_type": "markdown",
   "metadata": {
    "id": "YwyT3EQxVCgm"
   },
   "source": [
    "1. Create an `ndarray` of shape (3,5). All values of the array are 100."
   ]
  },
  {
   "cell_type": "code",
   "execution_count": 16,
   "metadata": {
    "id": "bdsABaxNUqVr"
   },
   "outputs": [
    {
     "data": {
      "text/plain": [
       "array([[100, 100, 100, 100, 100],\n",
       "       [100, 100, 100, 100, 100],\n",
       "       [100, 100, 100, 100, 100]])"
      ]
     },
     "execution_count": 16,
     "metadata": {},
     "output_type": "execute_result"
    }
   ],
   "source": [
    "a = np.random.randint(100, 101, (3, 5))\n",
    "a"
   ]
  },
  {
   "cell_type": "markdown",
   "metadata": {
    "id": "iYTCppLJVU3O"
   },
   "source": [
    "2. Create a border of zeros that surround the result in Question 1, so that the output is of shape (5,7), the outside values are 0 and the inside values are 100. "
   ]
  },
  {
   "cell_type": "code",
   "execution_count": 9,
   "metadata": {
    "id": "zYVIlzrrUqYY"
   },
   "outputs": [
    {
     "data": {
      "text/plain": [
       "array([[  0,   0,   0,   0,   0,   0,   0],\n",
       "       [  0, 100, 100, 100, 100, 100,   0],\n",
       "       [  0, 100, 100, 100, 100, 100,   0],\n",
       "       [  0, 100, 100, 100, 100, 100,   0],\n",
       "       [  0,   0,   0,   0,   0,   0,   0]])"
      ]
     },
     "execution_count": 9,
     "metadata": {},
     "output_type": "execute_result"
    }
   ],
   "source": [
    "b = np.pad(a, pad_width=1, mode='constant', constant_values=0)\n",
    "b"
   ]
  },
  {
   "cell_type": "markdown",
   "metadata": {
    "id": "YDJndwA2V1Af"
   },
   "source": [
    "3. Create a 5x5 matrix with values 1,2,3,4 just below the diagonal.\n"
   ]
  },
  {
   "cell_type": "code",
   "execution_count": 10,
   "metadata": {
    "id": "MGK4UJutUqd3"
   },
   "outputs": [
    {
     "data": {
      "text/plain": [
       "array([[0, 0, 0, 0, 0],\n",
       "       [1, 0, 0, 0, 0],\n",
       "       [0, 2, 0, 0, 0],\n",
       "       [0, 0, 3, 0, 0],\n",
       "       [0, 0, 0, 4, 0]])"
      ]
     },
     "execution_count": 10,
     "metadata": {},
     "output_type": "execute_result"
    }
   ],
   "source": [
    "c = np.diag(np.arange(1, 5), k = -1)\n",
    "c"
   ]
  },
  {
   "cell_type": "markdown",
   "metadata": {
    "id": "NYrOwCPzWMeD"
   },
   "source": [
    "4. Create a checkerboard 8x8 matrix using the tile function"
   ]
  },
  {
   "cell_type": "code",
   "execution_count": 11,
   "metadata": {
    "id": "3pEOA810WL07"
   },
   "outputs": [
    {
     "data": {
      "text/plain": [
       "array([[0, 1, 0, 1, 0, 1, 0, 1],\n",
       "       [1, 0, 1, 0, 1, 0, 1, 0],\n",
       "       [0, 1, 0, 1, 0, 1, 0, 1],\n",
       "       [1, 0, 1, 0, 1, 0, 1, 0],\n",
       "       [0, 1, 0, 1, 0, 1, 0, 1],\n",
       "       [1, 0, 1, 0, 1, 0, 1, 0],\n",
       "       [0, 1, 0, 1, 0, 1, 0, 1],\n",
       "       [1, 0, 1, 0, 1, 0, 1, 0]])"
      ]
     },
     "execution_count": 11,
     "metadata": {},
     "output_type": "execute_result"
    }
   ],
   "source": [
    "d = np.tile(np.array([[0, 1], [1, 0]]), (4, 4))\n",
    "d"
   ]
  },
  {
   "cell_type": "markdown",
   "metadata": {
    "id": "1HNTk70SWHjV"
   },
   "source": [
    "5. Sort a 2d-array by the nth column"
   ]
  },
  {
   "cell_type": "code",
   "execution_count": 22,
   "metadata": {
    "id": "9cxSyDIkUqgi"
   },
   "outputs": [
    {
     "data": {
      "text/plain": [
       "array([[0, 1, 0],\n",
       "       [7, 4, 7],\n",
       "       [3, 5, 2],\n",
       "       [1, 5, 5],\n",
       "       [9, 9, 8]])"
      ]
     },
     "execution_count": 22,
     "metadata": {},
     "output_type": "execute_result"
    }
   ],
   "source": [
    "e = np.random.randint(0, 10, (5, 3))\n",
    "e\n",
    "e[e[:, 1].argsort()]"
   ]
  },
  {
   "cell_type": "markdown",
   "metadata": {
    "id": "z__MABZ1W19Z"
   },
   "source": [
    "6. Compute a matrix rank"
   ]
  },
  {
   "cell_type": "code",
   "execution_count": 24,
   "metadata": {
    "id": "EKcIavS4UqjG"
   },
   "outputs": [
    {
     "data": {
      "text/plain": [
       "3"
      ]
     },
     "execution_count": 24,
     "metadata": {},
     "output_type": "execute_result"
    }
   ],
   "source": [
    "np.linalg.matrix_rank(e)"
   ]
  },
  {
   "cell_type": "markdown",
   "metadata": {
    "id": "Edizw3vbXOC6"
   },
   "source": [
    "7. Consider an array of dimension (5,5,3), how to mulitply it by an array with dimensions (5,5)?"
   ]
  },
  {
   "cell_type": "code",
   "execution_count": 27,
   "metadata": {
    "id": "JITZPgiyXhHJ"
   },
   "outputs": [
    {
     "name": "stdout",
     "output_type": "stream",
     "text": [
      "[[[45 18 81]\n",
      "  [ 6  0 14]\n",
      "  [16 72 32]\n",
      "  [ 0  0  0]\n",
      "  [54 63 81]]\n",
      "\n",
      " [[32 32  0]\n",
      "  [54 81 72]\n",
      "  [ 0  0  0]\n",
      "  [12 24 24]\n",
      "  [ 7 56  7]]\n",
      "\n",
      " [[28  7 28]\n",
      "  [28 14  0]\n",
      "  [15  3  0]\n",
      "  [ 8  6 12]\n",
      "  [ 0  0  0]]\n",
      "\n",
      " [[ 2  9  0]\n",
      "  [20 40 20]\n",
      "  [40  8 16]\n",
      "  [ 0  6 16]\n",
      "  [ 8  8  4]]\n",
      "\n",
      " [[ 5  3  3]\n",
      "  [36 54  6]\n",
      "  [20 20  4]\n",
      "  [ 0 28 63]\n",
      "  [ 0  0  0]]]\n"
     ]
    }
   ],
   "source": [
    "f = np.random.randint(0, 10, (5, 5, 3))\n",
    "g = np.random.randint(0, 10, (5, 5))\n",
    "print(f * g[:,:, np.newaxis])"
   ]
  },
  {
   "cell_type": "markdown",
   "metadata": {
    "id": "toN4wwRfXhka"
   },
   "source": [
    "8. Consider a 16x16 array, how to get the block-sum (block size is 4x4)?"
   ]
  },
  {
   "cell_type": "code",
   "execution_count": 32,
   "metadata": {
    "id": "ZxEeQA4DXh5W"
   },
   "outputs": [
    {
     "data": {
      "text/plain": [
       "array([[16., 16., 16., 16.],\n",
       "       [16., 16., 16., 16.],\n",
       "       [16., 16., 16., 16.],\n",
       "       [16., 16., 16., 16.]])"
      ]
     },
     "execution_count": 32,
     "metadata": {},
     "output_type": "execute_result"
    }
   ],
   "source": [
    "h = np.ones((16,16))\n",
    "k = 4\n",
    "result = np.add.reduceat(np.add.reduceat(h, np.arange(0, h.shape[0], k), axis=0),\n",
    "                                      np.arange(0, h.shape[1], k), axis=1)\n",
    "result"
   ]
  },
  {
   "cell_type": "markdown",
   "metadata": {
    "id": "L15y9mOiXirL"
   },
   "source": [
    "9. Get the n largest values of an array"
   ]
  },
  {
   "cell_type": "code",
   "execution_count": 39,
   "metadata": {
    "id": "-tp-G1PpXi-3"
   },
   "outputs": [
    {
     "name": "stdout",
     "output_type": "stream",
     "text": [
      "[6 4 3 3 4 3 7 1 3 4]\n"
     ]
    },
    {
     "data": {
      "text/plain": [
       "array([6, 7])"
      ]
     },
     "execution_count": 39,
     "metadata": {},
     "output_type": "execute_result"
    }
   ],
   "source": [
    "a = np.random.randint(0, 10, 10)\n",
    "print(a)\n",
    "a[a.argsort()][-2:]"
   ]
  },
  {
   "cell_type": "markdown",
   "metadata": {
    "id": "_cI2xR4mXjJd"
   },
   "source": [
    "10. Implement the Game of Life using numpy arrays"
   ]
  },
  {
   "cell_type": "code",
   "execution_count": 42,
   "metadata": {
    "id": "2PQX2EnnUqlr"
   },
   "outputs": [
    {
     "name": "stdout",
     "output_type": "stream",
     "text": [
      "195\n"
     ]
    }
   ],
   "source": [
    "# Author: Nicolas Rougier\n",
    "\n",
    "def iterate(Z):\n",
    "    # Count neighbours\n",
    "    N = (Z[0:-2,0:-2] + Z[0:-2,1:-1] + Z[0:-2,2:] +\n",
    "         Z[1:-1,0:-2]                + Z[1:-1,2:] +\n",
    "         Z[2:  ,0:-2] + Z[2:  ,1:-1] + Z[2:  ,2:])\n",
    "\n",
    "    # Apply rules\n",
    "    birth = (N==3) & (Z[1:-1,1:-1]==0)\n",
    "    survive = ((N==2) | (N==3)) & (Z[1:-1,1:-1]==1)\n",
    "    Z[...] = 0\n",
    "    Z[1:-1,1:-1][birth | survive] = 1\n",
    "    return Z\n",
    "\n",
    "Z = np.random.randint(0,2,(50,50))\n",
    "for i in range(100):\n",
    "    Z = iterate(Z)\n",
    "print(Z.sum())"
   ]
  },
  {
   "cell_type": "markdown",
   "metadata": {
    "id": "JjTspHcYYy1r"
   },
   "source": [
    "Check https://github.com/rougier/numpy-100/blob/master/100_Numpy_exercises.ipynb for more Numpy exercises."
   ]
  },
  {
   "cell_type": "markdown",
   "metadata": {
    "id": "duxYLMSbUrIy"
   },
   "source": [
    "## Pandas"
   ]
  },
  {
   "cell_type": "code",
   "execution_count": 44,
   "metadata": {
    "id": "X3JdMd73UsfF"
   },
   "outputs": [],
   "source": [
    "import pandas as pd\n",
    "import seaborn as sb"
   ]
  },
  {
   "cell_type": "markdown",
   "metadata": {
    "id": "gTqmqHeXYpA9"
   },
   "source": [
    "1. Using NumPy, create a Pandas DataFrame with five rows and three columns"
   ]
  },
  {
   "cell_type": "code",
   "execution_count": 46,
   "metadata": {
    "id": "5VtgfgDSUtDq"
   },
   "outputs": [
    {
     "data": {
      "text/html": [
       "<div>\n",
       "<style scoped>\n",
       "    .dataframe tbody tr th:only-of-type {\n",
       "        vertical-align: middle;\n",
       "    }\n",
       "\n",
       "    .dataframe tbody tr th {\n",
       "        vertical-align: top;\n",
       "    }\n",
       "\n",
       "    .dataframe thead th {\n",
       "        text-align: right;\n",
       "    }\n",
       "</style>\n",
       "<table border=\"1\" class=\"dataframe\">\n",
       "  <thead>\n",
       "    <tr style=\"text-align: right;\">\n",
       "      <th></th>\n",
       "      <th>0</th>\n",
       "      <th>1</th>\n",
       "      <th>2</th>\n",
       "    </tr>\n",
       "  </thead>\n",
       "  <tbody>\n",
       "    <tr>\n",
       "      <th>0</th>\n",
       "      <td>2</td>\n",
       "      <td>9</td>\n",
       "      <td>5</td>\n",
       "    </tr>\n",
       "    <tr>\n",
       "      <th>1</th>\n",
       "      <td>6</td>\n",
       "      <td>9</td>\n",
       "      <td>6</td>\n",
       "    </tr>\n",
       "    <tr>\n",
       "      <th>2</th>\n",
       "      <td>9</td>\n",
       "      <td>9</td>\n",
       "      <td>7</td>\n",
       "    </tr>\n",
       "    <tr>\n",
       "      <th>3</th>\n",
       "      <td>0</td>\n",
       "      <td>1</td>\n",
       "      <td>3</td>\n",
       "    </tr>\n",
       "    <tr>\n",
       "      <th>4</th>\n",
       "      <td>3</td>\n",
       "      <td>2</td>\n",
       "      <td>5</td>\n",
       "    </tr>\n",
       "  </tbody>\n",
       "</table>\n",
       "</div>"
      ],
      "text/plain": [
       "   0  1  2\n",
       "0  2  9  5\n",
       "1  6  9  6\n",
       "2  9  9  7\n",
       "3  0  1  3\n",
       "4  3  2  5"
      ]
     },
     "execution_count": 46,
     "metadata": {},
     "output_type": "execute_result"
    }
   ],
   "source": [
    "pd.DataFrame(np.random.randint(0, 10, (5, 3)))"
   ]
  },
  {
   "cell_type": "markdown",
   "metadata": {
    "id": "9qC1OJHFYryX"
   },
   "source": [
    "The following six questions depend on the penguins dataset."
   ]
  },
  {
   "cell_type": "code",
   "execution_count": 47,
   "metadata": {
    "id": "iz_sYU_7UtGZ"
   },
   "outputs": [],
   "source": [
    "df_penguins = sb.load_dataset('penguins')"
   ]
  },
  {
   "cell_type": "markdown",
   "metadata": {
    "id": "zewpETumaw2B"
   },
   "source": [
    "2. What function can we use to drop the rows that have missing data?"
   ]
  },
  {
   "cell_type": "code",
   "execution_count": 48,
   "metadata": {
    "id": "GzqdIEsqayY9"
   },
   "outputs": [
    {
     "data": {
      "text/html": [
       "<div>\n",
       "<style scoped>\n",
       "    .dataframe tbody tr th:only-of-type {\n",
       "        vertical-align: middle;\n",
       "    }\n",
       "\n",
       "    .dataframe tbody tr th {\n",
       "        vertical-align: top;\n",
       "    }\n",
       "\n",
       "    .dataframe thead th {\n",
       "        text-align: right;\n",
       "    }\n",
       "</style>\n",
       "<table border=\"1\" class=\"dataframe\">\n",
       "  <thead>\n",
       "    <tr style=\"text-align: right;\">\n",
       "      <th></th>\n",
       "      <th>species</th>\n",
       "      <th>island</th>\n",
       "      <th>bill_length_mm</th>\n",
       "      <th>bill_depth_mm</th>\n",
       "      <th>flipper_length_mm</th>\n",
       "      <th>body_mass_g</th>\n",
       "      <th>sex</th>\n",
       "    </tr>\n",
       "  </thead>\n",
       "  <tbody>\n",
       "    <tr>\n",
       "      <th>0</th>\n",
       "      <td>Adelie</td>\n",
       "      <td>Torgersen</td>\n",
       "      <td>39.1</td>\n",
       "      <td>18.7</td>\n",
       "      <td>181.0</td>\n",
       "      <td>3750.0</td>\n",
       "      <td>Male</td>\n",
       "    </tr>\n",
       "    <tr>\n",
       "      <th>1</th>\n",
       "      <td>Adelie</td>\n",
       "      <td>Torgersen</td>\n",
       "      <td>39.5</td>\n",
       "      <td>17.4</td>\n",
       "      <td>186.0</td>\n",
       "      <td>3800.0</td>\n",
       "      <td>Female</td>\n",
       "    </tr>\n",
       "    <tr>\n",
       "      <th>2</th>\n",
       "      <td>Adelie</td>\n",
       "      <td>Torgersen</td>\n",
       "      <td>40.3</td>\n",
       "      <td>18.0</td>\n",
       "      <td>195.0</td>\n",
       "      <td>3250.0</td>\n",
       "      <td>Female</td>\n",
       "    </tr>\n",
       "    <tr>\n",
       "      <th>4</th>\n",
       "      <td>Adelie</td>\n",
       "      <td>Torgersen</td>\n",
       "      <td>36.7</td>\n",
       "      <td>19.3</td>\n",
       "      <td>193.0</td>\n",
       "      <td>3450.0</td>\n",
       "      <td>Female</td>\n",
       "    </tr>\n",
       "    <tr>\n",
       "      <th>5</th>\n",
       "      <td>Adelie</td>\n",
       "      <td>Torgersen</td>\n",
       "      <td>39.3</td>\n",
       "      <td>20.6</td>\n",
       "      <td>190.0</td>\n",
       "      <td>3650.0</td>\n",
       "      <td>Male</td>\n",
       "    </tr>\n",
       "    <tr>\n",
       "      <th>...</th>\n",
       "      <td>...</td>\n",
       "      <td>...</td>\n",
       "      <td>...</td>\n",
       "      <td>...</td>\n",
       "      <td>...</td>\n",
       "      <td>...</td>\n",
       "      <td>...</td>\n",
       "    </tr>\n",
       "    <tr>\n",
       "      <th>338</th>\n",
       "      <td>Gentoo</td>\n",
       "      <td>Biscoe</td>\n",
       "      <td>47.2</td>\n",
       "      <td>13.7</td>\n",
       "      <td>214.0</td>\n",
       "      <td>4925.0</td>\n",
       "      <td>Female</td>\n",
       "    </tr>\n",
       "    <tr>\n",
       "      <th>340</th>\n",
       "      <td>Gentoo</td>\n",
       "      <td>Biscoe</td>\n",
       "      <td>46.8</td>\n",
       "      <td>14.3</td>\n",
       "      <td>215.0</td>\n",
       "      <td>4850.0</td>\n",
       "      <td>Female</td>\n",
       "    </tr>\n",
       "    <tr>\n",
       "      <th>341</th>\n",
       "      <td>Gentoo</td>\n",
       "      <td>Biscoe</td>\n",
       "      <td>50.4</td>\n",
       "      <td>15.7</td>\n",
       "      <td>222.0</td>\n",
       "      <td>5750.0</td>\n",
       "      <td>Male</td>\n",
       "    </tr>\n",
       "    <tr>\n",
       "      <th>342</th>\n",
       "      <td>Gentoo</td>\n",
       "      <td>Biscoe</td>\n",
       "      <td>45.2</td>\n",
       "      <td>14.8</td>\n",
       "      <td>212.0</td>\n",
       "      <td>5200.0</td>\n",
       "      <td>Female</td>\n",
       "    </tr>\n",
       "    <tr>\n",
       "      <th>343</th>\n",
       "      <td>Gentoo</td>\n",
       "      <td>Biscoe</td>\n",
       "      <td>49.9</td>\n",
       "      <td>16.1</td>\n",
       "      <td>213.0</td>\n",
       "      <td>5400.0</td>\n",
       "      <td>Male</td>\n",
       "    </tr>\n",
       "  </tbody>\n",
       "</table>\n",
       "<p>333 rows × 7 columns</p>\n",
       "</div>"
      ],
      "text/plain": [
       "    species     island  bill_length_mm  bill_depth_mm  flipper_length_mm  \\\n",
       "0    Adelie  Torgersen            39.1           18.7              181.0   \n",
       "1    Adelie  Torgersen            39.5           17.4              186.0   \n",
       "2    Adelie  Torgersen            40.3           18.0              195.0   \n",
       "4    Adelie  Torgersen            36.7           19.3              193.0   \n",
       "5    Adelie  Torgersen            39.3           20.6              190.0   \n",
       "..      ...        ...             ...            ...                ...   \n",
       "338  Gentoo     Biscoe            47.2           13.7              214.0   \n",
       "340  Gentoo     Biscoe            46.8           14.3              215.0   \n",
       "341  Gentoo     Biscoe            50.4           15.7              222.0   \n",
       "342  Gentoo     Biscoe            45.2           14.8              212.0   \n",
       "343  Gentoo     Biscoe            49.9           16.1              213.0   \n",
       "\n",
       "     body_mass_g     sex  \n",
       "0         3750.0    Male  \n",
       "1         3800.0  Female  \n",
       "2         3250.0  Female  \n",
       "4         3450.0  Female  \n",
       "5         3650.0    Male  \n",
       "..           ...     ...  \n",
       "338       4925.0  Female  \n",
       "340       4850.0  Female  \n",
       "341       5750.0    Male  \n",
       "342       5200.0  Female  \n",
       "343       5400.0    Male  \n",
       "\n",
       "[333 rows x 7 columns]"
      ]
     },
     "execution_count": 48,
     "metadata": {},
     "output_type": "execute_result"
    }
   ],
   "source": [
    "df_penguins.dropna()"
   ]
  },
  {
   "cell_type": "markdown",
   "metadata": {
    "id": "H5-OiNdwazAl"
   },
   "source": [
    "3. By default, will the function in Question 2 modify df_penguins or will it return a copy? "
   ]
  },
  {
   "cell_type": "markdown",
   "metadata": {},
   "source": [
    "Return a copy, if inplace=True, then it will modify df_penguins"
   ]
  },
  {
   "cell_type": "markdown",
   "metadata": {
    "id": "fGpQs-HxbE-4"
   },
   "source": [
    "4. Let df_full be the dataframe obtained from dropping rows with missing data. What is the average bill length of a penguin, in millimeters, in this (df_full) data set?"
   ]
  },
  {
   "cell_type": "code",
   "execution_count": 50,
   "metadata": {},
   "outputs": [
    {
     "data": {
      "text/plain": [
       "43.992792792792805"
      ]
     },
     "execution_count": 50,
     "metadata": {},
     "output_type": "execute_result"
    }
   ],
   "source": [
    "df_full = df_penguins.dropna()\n",
    "df_full['bill_length_mm'].mean()"
   ]
  },
  {
   "cell_type": "markdown",
   "metadata": {
    "id": "8G2PTyWXZu3Q"
   },
   "source": [
    "5. Which species has the longest flippers?"
   ]
  },
  {
   "cell_type": "code",
   "execution_count": 69,
   "metadata": {
    "id": "3t2CXujeUtJO"
   },
   "outputs": [
    {
     "data": {
      "text/html": [
       "<div>\n",
       "<style scoped>\n",
       "    .dataframe tbody tr th:only-of-type {\n",
       "        vertical-align: middle;\n",
       "    }\n",
       "\n",
       "    .dataframe tbody tr th {\n",
       "        vertical-align: top;\n",
       "    }\n",
       "\n",
       "    .dataframe thead tr th {\n",
       "        text-align: left;\n",
       "    }\n",
       "\n",
       "    .dataframe thead tr:last-of-type th {\n",
       "        text-align: right;\n",
       "    }\n",
       "</style>\n",
       "<table border=\"1\" class=\"dataframe\">\n",
       "  <thead>\n",
       "    <tr>\n",
       "      <th></th>\n",
       "      <th colspan=\"2\" halign=\"left\">flipper_length_mm</th>\n",
       "    </tr>\n",
       "    <tr>\n",
       "      <th></th>\n",
       "      <th>mean</th>\n",
       "      <th>max</th>\n",
       "    </tr>\n",
       "    <tr>\n",
       "      <th>species</th>\n",
       "      <th></th>\n",
       "      <th></th>\n",
       "    </tr>\n",
       "  </thead>\n",
       "  <tbody>\n",
       "    <tr>\n",
       "      <th>Adelie</th>\n",
       "      <td>190.102740</td>\n",
       "      <td>210.0</td>\n",
       "    </tr>\n",
       "    <tr>\n",
       "      <th>Chinstrap</th>\n",
       "      <td>195.823529</td>\n",
       "      <td>212.0</td>\n",
       "    </tr>\n",
       "    <tr>\n",
       "      <th>Gentoo</th>\n",
       "      <td>217.235294</td>\n",
       "      <td>231.0</td>\n",
       "    </tr>\n",
       "  </tbody>\n",
       "</table>\n",
       "</div>"
      ],
      "text/plain": [
       "          flipper_length_mm       \n",
       "                       mean    max\n",
       "species                           \n",
       "Adelie           190.102740  210.0\n",
       "Chinstrap        195.823529  212.0\n",
       "Gentoo           217.235294  231.0"
      ]
     },
     "execution_count": 69,
     "metadata": {},
     "output_type": "execute_result"
    }
   ],
   "source": [
    "df_full.groupby(['species']).agg({'flipper_length_mm':[np.mean, max]})"
   ]
  },
  {
   "cell_type": "markdown",
   "metadata": {
    "id": "1cIOry3KZwVt"
   },
   "source": [
    "6. Which two species have the most similar mean weight?"
   ]
  },
  {
   "cell_type": "code",
   "execution_count": 70,
   "metadata": {
    "id": "SxrsVLOjUtLy"
   },
   "outputs": [
    {
     "data": {
      "text/plain": [
       "species\n",
       "Adelie       3706.164384\n",
       "Chinstrap    3733.088235\n",
       "Gentoo       5092.436975\n",
       "Name: body_mass_g, dtype: float64"
      ]
     },
     "execution_count": 70,
     "metadata": {},
     "output_type": "execute_result"
    }
   ],
   "source": [
    "df_full.groupby(['species'])['body_mass_g'].mean()"
   ]
  },
  {
   "cell_type": "markdown",
   "metadata": {
    "id": "KwYXrDn8Z1Zs"
   },
   "source": [
    "7. How could you sort by species first, then by body mass?"
   ]
  },
  {
   "cell_type": "code",
   "execution_count": 73,
   "metadata": {
    "id": "rPfIrl1HdHWf"
   },
   "outputs": [
    {
     "data": {
      "text/html": [
       "<div>\n",
       "<style scoped>\n",
       "    .dataframe tbody tr th:only-of-type {\n",
       "        vertical-align: middle;\n",
       "    }\n",
       "\n",
       "    .dataframe tbody tr th {\n",
       "        vertical-align: top;\n",
       "    }\n",
       "\n",
       "    .dataframe thead th {\n",
       "        text-align: right;\n",
       "    }\n",
       "</style>\n",
       "<table border=\"1\" class=\"dataframe\">\n",
       "  <thead>\n",
       "    <tr style=\"text-align: right;\">\n",
       "      <th></th>\n",
       "      <th>species</th>\n",
       "      <th>island</th>\n",
       "      <th>bill_length_mm</th>\n",
       "      <th>bill_depth_mm</th>\n",
       "      <th>flipper_length_mm</th>\n",
       "      <th>body_mass_g</th>\n",
       "      <th>sex</th>\n",
       "    </tr>\n",
       "  </thead>\n",
       "  <tbody>\n",
       "    <tr>\n",
       "      <th>58</th>\n",
       "      <td>Adelie</td>\n",
       "      <td>Biscoe</td>\n",
       "      <td>36.5</td>\n",
       "      <td>16.6</td>\n",
       "      <td>181.0</td>\n",
       "      <td>2850.0</td>\n",
       "      <td>Female</td>\n",
       "    </tr>\n",
       "    <tr>\n",
       "      <th>64</th>\n",
       "      <td>Adelie</td>\n",
       "      <td>Biscoe</td>\n",
       "      <td>36.4</td>\n",
       "      <td>17.1</td>\n",
       "      <td>184.0</td>\n",
       "      <td>2850.0</td>\n",
       "      <td>Female</td>\n",
       "    </tr>\n",
       "    <tr>\n",
       "      <th>54</th>\n",
       "      <td>Adelie</td>\n",
       "      <td>Biscoe</td>\n",
       "      <td>34.5</td>\n",
       "      <td>18.1</td>\n",
       "      <td>187.0</td>\n",
       "      <td>2900.0</td>\n",
       "      <td>Female</td>\n",
       "    </tr>\n",
       "    <tr>\n",
       "      <th>98</th>\n",
       "      <td>Adelie</td>\n",
       "      <td>Dream</td>\n",
       "      <td>33.1</td>\n",
       "      <td>16.1</td>\n",
       "      <td>178.0</td>\n",
       "      <td>2900.0</td>\n",
       "      <td>Female</td>\n",
       "    </tr>\n",
       "    <tr>\n",
       "      <th>116</th>\n",
       "      <td>Adelie</td>\n",
       "      <td>Torgersen</td>\n",
       "      <td>38.6</td>\n",
       "      <td>17.0</td>\n",
       "      <td>188.0</td>\n",
       "      <td>2900.0</td>\n",
       "      <td>Female</td>\n",
       "    </tr>\n",
       "  </tbody>\n",
       "</table>\n",
       "</div>"
      ],
      "text/plain": [
       "    species     island  bill_length_mm  bill_depth_mm  flipper_length_mm  \\\n",
       "58   Adelie     Biscoe            36.5           16.6              181.0   \n",
       "64   Adelie     Biscoe            36.4           17.1              184.0   \n",
       "54   Adelie     Biscoe            34.5           18.1              187.0   \n",
       "98   Adelie      Dream            33.1           16.1              178.0   \n",
       "116  Adelie  Torgersen            38.6           17.0              188.0   \n",
       "\n",
       "     body_mass_g     sex  \n",
       "58        2850.0  Female  \n",
       "64        2850.0  Female  \n",
       "54        2900.0  Female  \n",
       "98        2900.0  Female  \n",
       "116       2900.0  Female  "
      ]
     },
     "execution_count": 73,
     "metadata": {},
     "output_type": "execute_result"
    }
   ],
   "source": [
    "df_full.sort_values(by=['species', 'body_mass_g']).head()"
   ]
  },
  {
   "cell_type": "markdown",
   "metadata": {
    "id": "bRR0ove1aLBL"
   },
   "source": [
    "The following three questions depend on the taxis dataset."
   ]
  },
  {
   "cell_type": "code",
   "execution_count": 75,
   "metadata": {
    "id": "UXIN5IwbUtOd"
   },
   "outputs": [
    {
     "data": {
      "text/html": [
       "<div>\n",
       "<style scoped>\n",
       "    .dataframe tbody tr th:only-of-type {\n",
       "        vertical-align: middle;\n",
       "    }\n",
       "\n",
       "    .dataframe tbody tr th {\n",
       "        vertical-align: top;\n",
       "    }\n",
       "\n",
       "    .dataframe thead th {\n",
       "        text-align: right;\n",
       "    }\n",
       "</style>\n",
       "<table border=\"1\" class=\"dataframe\">\n",
       "  <thead>\n",
       "    <tr style=\"text-align: right;\">\n",
       "      <th></th>\n",
       "      <th>pickup</th>\n",
       "      <th>dropoff</th>\n",
       "      <th>passengers</th>\n",
       "      <th>distance</th>\n",
       "      <th>fare</th>\n",
       "      <th>tip</th>\n",
       "      <th>tolls</th>\n",
       "      <th>total</th>\n",
       "      <th>color</th>\n",
       "      <th>payment</th>\n",
       "      <th>pickup_zone</th>\n",
       "      <th>dropoff_zone</th>\n",
       "      <th>pickup_borough</th>\n",
       "      <th>dropoff_borough</th>\n",
       "    </tr>\n",
       "  </thead>\n",
       "  <tbody>\n",
       "    <tr>\n",
       "      <th>0</th>\n",
       "      <td>2019-03-23 20:21:09</td>\n",
       "      <td>2019-03-23 20:27:24</td>\n",
       "      <td>1</td>\n",
       "      <td>1.60</td>\n",
       "      <td>7.0</td>\n",
       "      <td>2.15</td>\n",
       "      <td>0.0</td>\n",
       "      <td>12.95</td>\n",
       "      <td>yellow</td>\n",
       "      <td>credit card</td>\n",
       "      <td>Lenox Hill West</td>\n",
       "      <td>UN/Turtle Bay South</td>\n",
       "      <td>Manhattan</td>\n",
       "      <td>Manhattan</td>\n",
       "    </tr>\n",
       "    <tr>\n",
       "      <th>1</th>\n",
       "      <td>2019-03-04 16:11:55</td>\n",
       "      <td>2019-03-04 16:19:00</td>\n",
       "      <td>1</td>\n",
       "      <td>0.79</td>\n",
       "      <td>5.0</td>\n",
       "      <td>0.00</td>\n",
       "      <td>0.0</td>\n",
       "      <td>9.30</td>\n",
       "      <td>yellow</td>\n",
       "      <td>cash</td>\n",
       "      <td>Upper West Side South</td>\n",
       "      <td>Upper West Side South</td>\n",
       "      <td>Manhattan</td>\n",
       "      <td>Manhattan</td>\n",
       "    </tr>\n",
       "    <tr>\n",
       "      <th>2</th>\n",
       "      <td>2019-03-27 17:53:01</td>\n",
       "      <td>2019-03-27 18:00:25</td>\n",
       "      <td>1</td>\n",
       "      <td>1.37</td>\n",
       "      <td>7.5</td>\n",
       "      <td>2.36</td>\n",
       "      <td>0.0</td>\n",
       "      <td>14.16</td>\n",
       "      <td>yellow</td>\n",
       "      <td>credit card</td>\n",
       "      <td>Alphabet City</td>\n",
       "      <td>West Village</td>\n",
       "      <td>Manhattan</td>\n",
       "      <td>Manhattan</td>\n",
       "    </tr>\n",
       "    <tr>\n",
       "      <th>3</th>\n",
       "      <td>2019-03-10 01:23:59</td>\n",
       "      <td>2019-03-10 01:49:51</td>\n",
       "      <td>1</td>\n",
       "      <td>7.70</td>\n",
       "      <td>27.0</td>\n",
       "      <td>6.15</td>\n",
       "      <td>0.0</td>\n",
       "      <td>36.95</td>\n",
       "      <td>yellow</td>\n",
       "      <td>credit card</td>\n",
       "      <td>Hudson Sq</td>\n",
       "      <td>Yorkville West</td>\n",
       "      <td>Manhattan</td>\n",
       "      <td>Manhattan</td>\n",
       "    </tr>\n",
       "    <tr>\n",
       "      <th>4</th>\n",
       "      <td>2019-03-30 13:27:42</td>\n",
       "      <td>2019-03-30 13:37:14</td>\n",
       "      <td>3</td>\n",
       "      <td>2.16</td>\n",
       "      <td>9.0</td>\n",
       "      <td>1.10</td>\n",
       "      <td>0.0</td>\n",
       "      <td>13.40</td>\n",
       "      <td>yellow</td>\n",
       "      <td>credit card</td>\n",
       "      <td>Midtown East</td>\n",
       "      <td>Yorkville West</td>\n",
       "      <td>Manhattan</td>\n",
       "      <td>Manhattan</td>\n",
       "    </tr>\n",
       "  </tbody>\n",
       "</table>\n",
       "</div>"
      ],
      "text/plain": [
       "                pickup              dropoff  passengers  distance  fare   tip  \\\n",
       "0  2019-03-23 20:21:09  2019-03-23 20:27:24           1      1.60   7.0  2.15   \n",
       "1  2019-03-04 16:11:55  2019-03-04 16:19:00           1      0.79   5.0  0.00   \n",
       "2  2019-03-27 17:53:01  2019-03-27 18:00:25           1      1.37   7.5  2.36   \n",
       "3  2019-03-10 01:23:59  2019-03-10 01:49:51           1      7.70  27.0  6.15   \n",
       "4  2019-03-30 13:27:42  2019-03-30 13:37:14           3      2.16   9.0  1.10   \n",
       "\n",
       "   tolls  total   color      payment            pickup_zone  \\\n",
       "0    0.0  12.95  yellow  credit card        Lenox Hill West   \n",
       "1    0.0   9.30  yellow         cash  Upper West Side South   \n",
       "2    0.0  14.16  yellow  credit card          Alphabet City   \n",
       "3    0.0  36.95  yellow  credit card              Hudson Sq   \n",
       "4    0.0  13.40  yellow  credit card           Midtown East   \n",
       "\n",
       "            dropoff_zone pickup_borough dropoff_borough  \n",
       "0    UN/Turtle Bay South      Manhattan       Manhattan  \n",
       "1  Upper West Side South      Manhattan       Manhattan  \n",
       "2           West Village      Manhattan       Manhattan  \n",
       "3         Yorkville West      Manhattan       Manhattan  \n",
       "4         Yorkville West      Manhattan       Manhattan  "
      ]
     },
     "execution_count": 75,
     "metadata": {},
     "output_type": "execute_result"
    }
   ],
   "source": [
    "df_taxis = sb.load_dataset('taxis')\n",
    "df_taxis.head()"
   ]
  },
  {
   "cell_type": "markdown",
   "metadata": {
    "id": "3oh5_pHEbrQp"
   },
   "source": [
    "8. The 'pickup' column contains the date and time the customer picked up, but it's a string.  Add a column to the DataFrame, 'pickup_time', containing the value in 'pickup' as a DateTime."
   ]
  },
  {
   "cell_type": "code",
   "execution_count": 78,
   "metadata": {
    "id": "coNwd-OjUtTp"
   },
   "outputs": [
    {
     "data": {
      "text/plain": [
       "count                             6433\n",
       "mean     2019-03-16 08:31:28.514223616\n",
       "min                2019-02-28 23:29:03\n",
       "25%                2019-03-08 15:50:34\n",
       "50%                2019-03-15 21:46:58\n",
       "75%                2019-03-23 17:41:38\n",
       "max                2019-03-31 23:43:45\n",
       "Name: pickup_time, dtype: object"
      ]
     },
     "execution_count": 78,
     "metadata": {},
     "output_type": "execute_result"
    }
   ],
   "source": [
    "df_taxis['pickup_time'] = pd.to_datetime(df_taxis['pickup'])\n",
    "df_taxis['pickup_time'].describe(datetime_is_numeric=True)"
   ]
  },
  {
   "cell_type": "markdown",
   "metadata": {
    "id": "f7rfz-d2cSRe"
   },
   "source": [
    "9. Create a subset of the dataframe to create a new DataFrame, taxis_one_day. This new DataFrame should have pickup_time values between '2019-03-23 00:06:00' (inclusive) and '2019-03-24 00:00:00' (exlusive)."
   ]
  },
  {
   "cell_type": "code",
   "execution_count": 79,
   "metadata": {
    "id": "AfcUTYPVbjAK"
   },
   "outputs": [],
   "source": [
    "taxis_one_day = df_taxis[(df_taxis['pickup_time']>='2019-03-23 00:06:00') & (df_taxis['pickup_time']<'2019-03-24 00:00:00')]"
   ]
  },
  {
   "cell_type": "code",
   "execution_count": 80,
   "metadata": {},
   "outputs": [
    {
     "data": {
      "text/plain": [
       "count                              209\n",
       "mean     2019-03-23 14:05:40.722487808\n",
       "min                2019-03-23 00:07:14\n",
       "25%                2019-03-23 09:51:43\n",
       "50%                2019-03-23 15:08:14\n",
       "75%                2019-03-23 19:22:48\n",
       "max                2019-03-23 23:50:41\n",
       "Name: pickup_time, dtype: object"
      ]
     },
     "execution_count": 80,
     "metadata": {},
     "output_type": "execute_result"
    }
   ],
   "source": [
    "taxis_one_day['pickup_time'].describe(datetime_is_numeric=True)"
   ]
  },
  {
   "cell_type": "markdown",
   "metadata": {
    "id": "k9ErqDN-cf84"
   },
   "source": [
    "10. From the dataframe in Question 9, take the mean of the numeric columns, grouped at one hour intervals.  Save the result as df_means, and display it."
   ]
  },
  {
   "cell_type": "code",
   "execution_count": 85,
   "metadata": {
    "id": "Ul7rGs1bbjC8"
   },
   "outputs": [
    {
     "data": {
      "text/html": [
       "<div>\n",
       "<style scoped>\n",
       "    .dataframe tbody tr th:only-of-type {\n",
       "        vertical-align: middle;\n",
       "    }\n",
       "\n",
       "    .dataframe tbody tr th {\n",
       "        vertical-align: top;\n",
       "    }\n",
       "\n",
       "    .dataframe thead th {\n",
       "        text-align: right;\n",
       "    }\n",
       "</style>\n",
       "<table border=\"1\" class=\"dataframe\">\n",
       "  <thead>\n",
       "    <tr style=\"text-align: right;\">\n",
       "      <th></th>\n",
       "      <th>passengers</th>\n",
       "      <th>distance</th>\n",
       "      <th>fare</th>\n",
       "      <th>tip</th>\n",
       "      <th>tolls</th>\n",
       "      <th>total</th>\n",
       "    </tr>\n",
       "    <tr>\n",
       "      <th>hour</th>\n",
       "      <th></th>\n",
       "      <th></th>\n",
       "      <th></th>\n",
       "      <th></th>\n",
       "      <th></th>\n",
       "      <th></th>\n",
       "    </tr>\n",
       "  </thead>\n",
       "  <tbody>\n",
       "    <tr>\n",
       "      <th>0</th>\n",
       "      <td>1.000000</td>\n",
       "      <td>1.911667</td>\n",
       "      <td>8.583333</td>\n",
       "      <td>1.415000</td>\n",
       "      <td>0.000000</td>\n",
       "      <td>12.965000</td>\n",
       "    </tr>\n",
       "    <tr>\n",
       "      <th>1</th>\n",
       "      <td>1.250000</td>\n",
       "      <td>1.325000</td>\n",
       "      <td>7.875000</td>\n",
       "      <td>1.525000</td>\n",
       "      <td>0.000000</td>\n",
       "      <td>12.575000</td>\n",
       "    </tr>\n",
       "    <tr>\n",
       "      <th>2</th>\n",
       "      <td>1.727273</td>\n",
       "      <td>1.739091</td>\n",
       "      <td>8.181818</td>\n",
       "      <td>1.641818</td>\n",
       "      <td>0.000000</td>\n",
       "      <td>13.169091</td>\n",
       "    </tr>\n",
       "    <tr>\n",
       "      <th>3</th>\n",
       "      <td>1.500000</td>\n",
       "      <td>3.377500</td>\n",
       "      <td>11.750000</td>\n",
       "      <td>2.410000</td>\n",
       "      <td>0.000000</td>\n",
       "      <td>17.335000</td>\n",
       "    </tr>\n",
       "    <tr>\n",
       "      <th>4</th>\n",
       "      <td>2.000000</td>\n",
       "      <td>0.950000</td>\n",
       "      <td>5.500000</td>\n",
       "      <td>0.915000</td>\n",
       "      <td>0.000000</td>\n",
       "      <td>10.215000</td>\n",
       "    </tr>\n",
       "    <tr>\n",
       "      <th>5</th>\n",
       "      <td>2.000000</td>\n",
       "      <td>1.270000</td>\n",
       "      <td>6.000000</td>\n",
       "      <td>0.980000</td>\n",
       "      <td>0.000000</td>\n",
       "      <td>10.530000</td>\n",
       "    </tr>\n",
       "    <tr>\n",
       "      <th>6</th>\n",
       "      <td>1.000000</td>\n",
       "      <td>0.400000</td>\n",
       "      <td>21.500000</td>\n",
       "      <td>0.000000</td>\n",
       "      <td>0.000000</td>\n",
       "      <td>23.133333</td>\n",
       "    </tr>\n",
       "    <tr>\n",
       "      <th>7</th>\n",
       "      <td>2.333333</td>\n",
       "      <td>0.980000</td>\n",
       "      <td>5.250000</td>\n",
       "      <td>1.165000</td>\n",
       "      <td>0.000000</td>\n",
       "      <td>9.298333</td>\n",
       "    </tr>\n",
       "    <tr>\n",
       "      <th>8</th>\n",
       "      <td>1.000000</td>\n",
       "      <td>0.020000</td>\n",
       "      <td>2.500000</td>\n",
       "      <td>0.000000</td>\n",
       "      <td>0.000000</td>\n",
       "      <td>3.300000</td>\n",
       "    </tr>\n",
       "    <tr>\n",
       "      <th>9</th>\n",
       "      <td>1.500000</td>\n",
       "      <td>1.352000</td>\n",
       "      <td>7.400000</td>\n",
       "      <td>1.674000</td>\n",
       "      <td>0.000000</td>\n",
       "      <td>12.124000</td>\n",
       "    </tr>\n",
       "    <tr>\n",
       "      <th>10</th>\n",
       "      <td>1.000000</td>\n",
       "      <td>1.760000</td>\n",
       "      <td>8.750000</td>\n",
       "      <td>0.727500</td>\n",
       "      <td>0.000000</td>\n",
       "      <td>12.152500</td>\n",
       "    </tr>\n",
       "    <tr>\n",
       "      <th>11</th>\n",
       "      <td>1.909091</td>\n",
       "      <td>2.070000</td>\n",
       "      <td>11.090909</td>\n",
       "      <td>0.803636</td>\n",
       "      <td>0.000000</td>\n",
       "      <td>14.667273</td>\n",
       "    </tr>\n",
       "    <tr>\n",
       "      <th>12</th>\n",
       "      <td>2.000000</td>\n",
       "      <td>2.267143</td>\n",
       "      <td>10.260000</td>\n",
       "      <td>0.645714</td>\n",
       "      <td>0.000000</td>\n",
       "      <td>13.420000</td>\n",
       "    </tr>\n",
       "    <tr>\n",
       "      <th>13</th>\n",
       "      <td>2.500000</td>\n",
       "      <td>1.167000</td>\n",
       "      <td>7.550000</td>\n",
       "      <td>2.074000</td>\n",
       "      <td>0.000000</td>\n",
       "      <td>12.344000</td>\n",
       "    </tr>\n",
       "    <tr>\n",
       "      <th>14</th>\n",
       "      <td>2.470588</td>\n",
       "      <td>4.752941</td>\n",
       "      <td>18.330000</td>\n",
       "      <td>1.945294</td>\n",
       "      <td>1.003529</td>\n",
       "      <td>24.267059</td>\n",
       "    </tr>\n",
       "    <tr>\n",
       "      <th>15</th>\n",
       "      <td>1.000000</td>\n",
       "      <td>6.557143</td>\n",
       "      <td>22.214286</td>\n",
       "      <td>3.210000</td>\n",
       "      <td>1.645714</td>\n",
       "      <td>30.370000</td>\n",
       "    </tr>\n",
       "    <tr>\n",
       "      <th>16</th>\n",
       "      <td>2.000000</td>\n",
       "      <td>2.194545</td>\n",
       "      <td>10.454545</td>\n",
       "      <td>1.109091</td>\n",
       "      <td>0.000000</td>\n",
       "      <td>14.431818</td>\n",
       "    </tr>\n",
       "    <tr>\n",
       "      <th>17</th>\n",
       "      <td>1.090909</td>\n",
       "      <td>1.913636</td>\n",
       "      <td>14.818182</td>\n",
       "      <td>2.688182</td>\n",
       "      <td>0.523636</td>\n",
       "      <td>20.739091</td>\n",
       "    </tr>\n",
       "    <tr>\n",
       "      <th>18</th>\n",
       "      <td>1.571429</td>\n",
       "      <td>3.206429</td>\n",
       "      <td>12.821429</td>\n",
       "      <td>0.844286</td>\n",
       "      <td>0.411429</td>\n",
       "      <td>16.427143</td>\n",
       "    </tr>\n",
       "    <tr>\n",
       "      <th>19</th>\n",
       "      <td>1.526316</td>\n",
       "      <td>2.097895</td>\n",
       "      <td>10.263158</td>\n",
       "      <td>1.176316</td>\n",
       "      <td>0.000000</td>\n",
       "      <td>14.226316</td>\n",
       "    </tr>\n",
       "    <tr>\n",
       "      <th>20</th>\n",
       "      <td>1.400000</td>\n",
       "      <td>2.448000</td>\n",
       "      <td>11.100000</td>\n",
       "      <td>1.544000</td>\n",
       "      <td>0.000000</td>\n",
       "      <td>15.944000</td>\n",
       "    </tr>\n",
       "    <tr>\n",
       "      <th>21</th>\n",
       "      <td>1.000000</td>\n",
       "      <td>2.017143</td>\n",
       "      <td>10.571429</td>\n",
       "      <td>1.420000</td>\n",
       "      <td>0.000000</td>\n",
       "      <td>15.791429</td>\n",
       "    </tr>\n",
       "    <tr>\n",
       "      <th>22</th>\n",
       "      <td>1.307692</td>\n",
       "      <td>1.881538</td>\n",
       "      <td>8.923077</td>\n",
       "      <td>1.094615</td>\n",
       "      <td>0.000000</td>\n",
       "      <td>13.433077</td>\n",
       "    </tr>\n",
       "    <tr>\n",
       "      <th>23</th>\n",
       "      <td>1.615385</td>\n",
       "      <td>3.725385</td>\n",
       "      <td>15.115385</td>\n",
       "      <td>1.696154</td>\n",
       "      <td>0.000000</td>\n",
       "      <td>20.034615</td>\n",
       "    </tr>\n",
       "  </tbody>\n",
       "</table>\n",
       "</div>"
      ],
      "text/plain": [
       "      passengers  distance       fare       tip     tolls      total\n",
       "hour                                                                \n",
       "0       1.000000  1.911667   8.583333  1.415000  0.000000  12.965000\n",
       "1       1.250000  1.325000   7.875000  1.525000  0.000000  12.575000\n",
       "2       1.727273  1.739091   8.181818  1.641818  0.000000  13.169091\n",
       "3       1.500000  3.377500  11.750000  2.410000  0.000000  17.335000\n",
       "4       2.000000  0.950000   5.500000  0.915000  0.000000  10.215000\n",
       "5       2.000000  1.270000   6.000000  0.980000  0.000000  10.530000\n",
       "6       1.000000  0.400000  21.500000  0.000000  0.000000  23.133333\n",
       "7       2.333333  0.980000   5.250000  1.165000  0.000000   9.298333\n",
       "8       1.000000  0.020000   2.500000  0.000000  0.000000   3.300000\n",
       "9       1.500000  1.352000   7.400000  1.674000  0.000000  12.124000\n",
       "10      1.000000  1.760000   8.750000  0.727500  0.000000  12.152500\n",
       "11      1.909091  2.070000  11.090909  0.803636  0.000000  14.667273\n",
       "12      2.000000  2.267143  10.260000  0.645714  0.000000  13.420000\n",
       "13      2.500000  1.167000   7.550000  2.074000  0.000000  12.344000\n",
       "14      2.470588  4.752941  18.330000  1.945294  1.003529  24.267059\n",
       "15      1.000000  6.557143  22.214286  3.210000  1.645714  30.370000\n",
       "16      2.000000  2.194545  10.454545  1.109091  0.000000  14.431818\n",
       "17      1.090909  1.913636  14.818182  2.688182  0.523636  20.739091\n",
       "18      1.571429  3.206429  12.821429  0.844286  0.411429  16.427143\n",
       "19      1.526316  2.097895  10.263158  1.176316  0.000000  14.226316\n",
       "20      1.400000  2.448000  11.100000  1.544000  0.000000  15.944000\n",
       "21      1.000000  2.017143  10.571429  1.420000  0.000000  15.791429\n",
       "22      1.307692  1.881538   8.923077  1.094615  0.000000  13.433077\n",
       "23      1.615385  3.725385  15.115385  1.696154  0.000000  20.034615"
      ]
     },
     "execution_count": 85,
     "metadata": {},
     "output_type": "execute_result"
    }
   ],
   "source": [
    "taxis_one_day.groupby(taxis_one_day.pickup_time.rename('hour').map(lambda x: x.hour)).mean()"
   ]
  },
  {
   "cell_type": "markdown",
   "metadata": {
    "id": "gGLHwogaZX0-"
   },
   "source": [
    "Check https://colab.research.google.com/github/CodeSolid/CodeSolid.github.io/blob/main/booksource/exercises/PandasExercises.ipynb for more Pandas exercises."
   ]
  },
  {
   "cell_type": "code",
   "execution_count": null,
   "metadata": {
    "id": "Yag0a9H7ZbQe"
   },
   "outputs": [],
   "source": []
  }
 ],
 "metadata": {
  "colab": {
   "collapsed_sections": [],
   "name": "Week1_Exercises.ipynb",
   "provenance": []
  },
  "kernelspec": {
   "display_name": "Python 3 (ipykernel)",
   "language": "python",
   "name": "python3"
  },
  "language_info": {
   "codemirror_mode": {
    "name": "ipython",
    "version": 3
   },
   "file_extension": ".py",
   "mimetype": "text/x-python",
   "name": "python",
   "nbconvert_exporter": "python",
   "pygments_lexer": "ipython3",
   "version": "3.9.12"
  }
 },
 "nbformat": 4,
 "nbformat_minor": 1
}

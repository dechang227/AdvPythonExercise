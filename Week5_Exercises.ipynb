{
  "nbformat": 4,
  "nbformat_minor": 0,
  "metadata": {
    "colab": {
      "provenance": [],
      "collapsed_sections": []
    },
    "kernelspec": {
      "name": "python3",
      "display_name": "Python 3"
    },
    "language_info": {
      "name": "python"
    },
    "accelerator": "GPU"
  },
  "cells": [
    {
      "cell_type": "markdown",
      "source": [
        "# Week 5 Exercise\n",
        "\n",
        "Choose at least **one** of the task below as practice."
      ],
      "metadata": {
        "id": "ofB0EQ1NSFma"
      }
    },
    {
      "cell_type": "markdown",
      "source": [
        "---\n",
        "## Task 1: Computer monitor"
      ],
      "metadata": {
        "id": "hfCURtMFnW0p"
      }
    },
    {
      "cell_type": "markdown",
      "source": [
        "We have implemented the CPU monitor in the lecture.\n",
        "- try to add more functions to its and make it display more information.\n",
        "  - For example: memory usage, disk usage, internet connection etc.\n",
        "- try to use more complex pipeline to display a variety of information.\n",
        "  - For example: CPU usage of past 10s/30s/1min,  \n"
      ],
      "metadata": {
        "id": "QKoQvvDAnbBA"
      }
    },
    {
      "cell_type": "code",
      "execution_count": null,
      "metadata": {
        "id": "ba73eaAcnOb6"
      },
      "outputs": [],
      "source": [
        "!pip install rx --quiet"
      ]
    },
    {
      "cell_type": "markdown",
      "source": [
        "### Define and initialize observables"
      ],
      "metadata": {
        "id": "w7HLb-pNpXQH"
      }
    },
    {
      "cell_type": "code",
      "source": [
        "import psutil\n",
        "from rx import interval\n",
        "from rx.operators import map, publish, take, buffer_with_count\n",
        "import time\n",
        "\n",
        "sys_data = interval(0.1).pipe(\n",
        "  map(lambda x: \n",
        "                {'cpu_pct':psutil.cpu_percent(), \n",
        "                 'virtual_memory_pct':psutil.virtual_memory()[2], \n",
        "                 'swap_memory_pct':psutil.swap_memory()[3], \n",
        "                 'disk_usage_pct':psutil.disk_usage('/')[3],\n",
        "                 'net_speed':psutil.net_if_stats()['eth0'][2],\n",
        "                 }\n",
        "      ),\n",
        "  publish(),\n",
        ")\n",
        "sys_data.connect() # Start producing data\n",
        "\n",
        "take(4)(sys_data).subscribe(print)\n",
        "time.sleep(0.5)"
      ],
      "metadata": {
        "id": "sdmNoT4jn-Fc",
        "colab": {
          "base_uri": "https://localhost:8080/"
        },
        "outputId": "2639c01f-2068-45a7-f388-8ba5e9e61173"
      },
      "execution_count": null,
      "outputs": [
        {
          "output_type": "stream",
          "name": "stdout",
          "text": [
            "{'cpu_pct': 54.7, 'virtual_memory_pct': 7.0, 'swap_memory_pct': 0, 'disk_usage_pct': 34.3, 'net_speed': 10000}\n",
            "{'cpu_pct': 73.7, 'virtual_memory_pct': 7.0, 'swap_memory_pct': 0, 'disk_usage_pct': 34.3, 'net_speed': 10000}\n",
            "{'cpu_pct': 90.5, 'virtual_memory_pct': 7.0, 'swap_memory_pct': 0, 'disk_usage_pct': 34.3, 'net_speed': 10000}\n",
            "{'cpu_pct': 47.6, 'virtual_memory_pct': 6.2, 'swap_memory_pct': 0, 'disk_usage_pct': 34.3, 'net_speed': 10000}\n"
          ]
        }
      ]
    },
    {
      "cell_type": "markdown",
      "source": [
        "### Define the monitor function/Class"
      ],
      "metadata": {
        "id": "jMQx-FHypeir"
      }
    },
    {
      "cell_type": "code",
      "source": [
        "%matplotlib inline\n",
        "import numpy as np\n",
        "import pylab as plt\n",
        "from IPython import display\n",
        "\n",
        "class SysMonitor(object):\n",
        "\n",
        "  def __init__(self, sys_data, npoints):\n",
        "    self.sys_data = sys_data\n",
        "    self.npoints = npoints\n",
        "    self.sys_data_window = self.sys_data.pipe(\n",
        "      buffer_with_count(self.npoints, 1)\n",
        "    )\n",
        "    # self.high_usage = self.cpu_data.pipe(\n",
        "    #   buffer_with_count(4, 1),\n",
        "    #   map(lambda readings: all(r > 20 for r in readings)),\n",
        "    # )\n",
        "\n",
        "  def start(self, util='cpu_pct', duration=5):\n",
        "    self.init_plot()\n",
        "    # self.high_cpu.subscribe(self.update_warning)\n",
        "    self.sys_data_window.subscribe(lambda x: self.update_plot(x, util))\n",
        "    time.sleep(duration)\n",
        "\n",
        "  def init_plot(self):\n",
        "    (lines,) = plt.plot([], [])\n",
        "    plt.xlim(0, self.npoints)\n",
        "    plt.ylim(0, 120)\n",
        "    self.lines = lines\n",
        "    # self.label = plt.text(1, 1, \"normal\")\n",
        "    display.display(plt.gcf())\n",
        "\n",
        "  def update_plot(self, sys_readings, util='cpu_pct'):\n",
        "    self.lines.set_xdata(np.arange(len(sys_readings)))\n",
        "    self.lines.set_ydata(np.array([sys_reading[util] for sys_reading in sys_readings]))\n",
        "    display.clear_output(wait=True)\n",
        "    display.display(plt.gcf())\n",
        "\n",
        "  # def update_warning(self, is_high):\n",
        "  #   if is_high:\n",
        "  #     self.label.set_text(\"high\")\n",
        "  #   else:\n",
        "  #     self.label.set_text(\"normal\")\n"
      ],
      "metadata": {
        "id": "pI2C7HrGpo4a"
      },
      "execution_count": null,
      "outputs": []
    },
    {
      "cell_type": "code",
      "source": [
        "monitor = SysMonitor(sys_data, 10)"
      ],
      "metadata": {
        "id": "2OFA341xuFiK"
      },
      "execution_count": null,
      "outputs": []
    },
    {
      "cell_type": "code",
      "source": [
        "monitor.start(util='cpu_pct')"
      ],
      "metadata": {
        "colab": {
          "base_uri": "https://localhost:8080/",
          "height": 305
        },
        "id": "iNW3nh0EVjly",
        "outputId": "70d0c029-b427-4d60-b39f-66a3e27f0946"
      },
      "execution_count": null,
      "outputs": [
        {
          "output_type": "display_data",
          "data": {
            "text/plain": [
              "<Figure size 432x288 with 1 Axes>"
            ],
            "image/png": "[encoded data removed]"
          },
          "metadata": {
            "needs_background": "light"
          }
        }
      ]
    },
    {
      "cell_type": "code",
      "source": [
        "monitor.start(util='virtual_memory_pct')"
      ],
      "metadata": {
        "colab": {
          "base_uri": "https://localhost:8080/",
          "height": 269
        },
        "id": "5udegRmNViQ4",
        "outputId": "7363a6db-4347-4f5f-abba-a8828cad32ac"
      },
      "execution_count": null,
      "outputs": [
        {
          "output_type": "display_data",
          "data": {
            "text/plain": [
              "<Figure size 381.513x252.84 with 1 Axes>"
            ],
            "image/png": "[encoded data removed]"
          },
          "metadata": {
            "needs_background": "light"
          }
        }
      ]
    },
    {
      "cell_type": "markdown",
      "source": [
        "---\n",
        "\n",
        "## Task 2: Calculate integration with Monte Carlo method\n",
        "\n",
        "- Use Theano, TensorFlow to calculate the integration $∫_0^1 x^2$.\n",
        "- Compare with the serial implementation."
      ],
      "metadata": {
        "id": "iMTxK5QfpbAB"
      }
    },
    {
      "cell_type": "markdown",
      "source": [
        "### Serial implementation"
      ],
      "metadata": {
        "id": "l3A4f3kSqt54"
      }
    },
    {
      "cell_type": "code",
      "source": [
        "import numpy as np\n",
        "INTERVAL = 0.0001\n",
        "x_val = np.arange(0, 1, INTERVAL)\n",
        "def integration_serial(x_val):\n",
        "  integrand_sum = 0.0\n",
        "  for x in x_val:\n",
        "    integrand_sum += x**2\n",
        "  return integrand_sum*INTERVAL"
      ],
      "metadata": {
        "id": "MltUDIivqxms"
      },
      "execution_count": null,
      "outputs": []
    },
    {
      "cell_type": "markdown",
      "source": [
        "Calculate the time cost"
      ],
      "metadata": {
        "id": "mEzSe9rZq194"
      }
    },
    {
      "cell_type": "code",
      "source": [
        "%%time\n",
        "serial_res = integration_serial(x_val)\n",
        "print(serial_res)"
      ],
      "metadata": {
        "id": "c5XZvd2Jq6m3",
        "colab": {
          "base_uri": "https://localhost:8080/"
        },
        "outputId": "50063a79-84ef-42a8-a90f-93e576f9d09f"
      },
      "execution_count": null,
      "outputs": [
        {
          "output_type": "stream",
          "name": "stdout",
          "text": [
            "0.33328333499999835\n",
            "CPU times: user 4.36 ms, sys: 1.07 ms, total: 5.43 ms\n",
            "Wall time: 5.38 ms\n"
          ]
        }
      ]
    },
    {
      "cell_type": "markdown",
      "source": [
        "### Use Theano "
      ],
      "metadata": {
        "id": "piYyzWdkqkqR"
      }
    },
    {
      "cell_type": "code",
      "source": [
        "!pip install Theano --quiet"
      ],
      "metadata": {
        "id": "0ke0i07Fqjv3",
        "colab": {
          "base_uri": "https://localhost:8080/"
        },
        "outputId": "ce420b6e-de4a-478a-858f-d1b33c247228"
      },
      "execution_count": null,
      "outputs": [
        {
          "output_type": "stream",
          "name": "stdout",
          "text": [
            "\u001b[K     |████████████████████████████████| 2.8 MB 4.2 MB/s \n",
            "\u001b[?25h  Building wheel for Theano (setup.py) ... \u001b[?25l\u001b[?25hdone\n"
          ]
        }
      ]
    },
    {
      "cell_type": "code",
      "source": [
        "import theano.tensor as T\n",
        "import theano as th\n",
        "\n",
        "# enable OpenMP support\n",
        "th.config.openmp_elemwise_minsize = 1000\n",
        "th.config.openmp = True\n",
        "\n",
        "# define theano function\n",
        "x = T.vector(\"x\")\n",
        "integrand = INTERVAL * x ** 2\n",
        "integral = integrand.sum()\n",
        "calculate_intgeration = th.function([x], integral)"
      ],
      "metadata": {
        "id": "v-sT_ETVdzcD"
      },
      "execution_count": null,
      "outputs": []
    },
    {
      "cell_type": "markdown",
      "source": [
        "Calculate the time cost"
      ],
      "metadata": {
        "id": "1_3wpk_FrGUZ"
      }
    },
    {
      "cell_type": "code",
      "source": [
        "%%time\n",
        "theano_res = calculate_intgeration(x_val)\n",
        "print(theano_res)"
      ],
      "metadata": {
        "id": "iC_UJwvBrHOZ",
        "colab": {
          "base_uri": "https://localhost:8080/"
        },
        "outputId": "2d05ac1b-bbdb-497b-9b2a-fe936df947aa"
      },
      "execution_count": null,
      "outputs": [
        {
          "output_type": "stream",
          "name": "stdout",
          "text": [
            "0.33328333499999835\n",
            "CPU times: user 255 µs, sys: 57 µs, total: 312 µs\n",
            "Wall time: 277 µs\n"
          ]
        }
      ]
    },
    {
      "cell_type": "markdown",
      "source": [
        "### Use TensorFlow"
      ],
      "metadata": {
        "id": "2NWrvrg0rIg1"
      }
    },
    {
      "cell_type": "code",
      "source": [
        "import tensorflow.compat.v1 as tf\n",
        "tf.disable_v2_behavior()"
      ],
      "metadata": {
        "id": "4kHSxnJvrK1N",
        "colab": {
          "base_uri": "https://localhost:8080/"
        },
        "outputId": "61cddac7-631b-4dc4-843d-ef03db3d3eb6"
      },
      "execution_count": null,
      "outputs": [
        {
          "output_type": "stream",
          "name": "stderr",
          "text": [
            "WARNING:tensorflow:From /usr/local/lib/python3.7/dist-packages/tensorflow/python/compat/v2_compat.py:107: disable_resource_variables (from tensorflow.python.ops.variable_scope) is deprecated and will be removed in a future version.\n",
            "Instructions for updating:\n",
            "non-resource variables are not supported in the long term\n"
          ]
        }
      ]
    },
    {
      "cell_type": "code",
      "source": [
        "tf.config.list_physical_devices('GPU')"
      ],
      "metadata": {
        "colab": {
          "base_uri": "https://localhost:8080/"
        },
        "id": "lOsuBYscgAQL",
        "outputId": "df7eb347-f221-4837-d02a-8af57bbe7b24"
      },
      "execution_count": null,
      "outputs": [
        {
          "output_type": "execute_result",
          "data": {
            "text/plain": [
              "[PhysicalDevice(name='/physical_device:GPU:0', device_type='GPU')]"
            ]
          },
          "metadata": {},
          "execution_count": 7
        }
      ]
    },
    {
      "cell_type": "code",
      "source": [
        "x = tf.placeholder(\"float64\", name=\"x\")\n",
        "\n",
        "integrand = INTERVAL * x ** 2\n",
        "integral = tf.reduce_sum(tf.cast(integrand, \"float64\"))"
      ],
      "metadata": {
        "id": "qsc05mXxgAUl"
      },
      "execution_count": null,
      "outputs": []
    },
    {
      "cell_type": "code",
      "source": [
        "tfsess = tf.Session()"
      ],
      "metadata": {
        "id": "XwGgGU_MgkB3"
      },
      "execution_count": null,
      "outputs": []
    },
    {
      "cell_type": "markdown",
      "source": [
        "Calculate the time cost"
      ],
      "metadata": {
        "id": "_q6sk1eCrLfX"
      }
    },
    {
      "cell_type": "code",
      "source": [
        "%%time\n",
        "tfsess.run(integral, {x:x_val})"
      ],
      "metadata": {
        "id": "Nr2byqPbrMFz",
        "colab": {
          "base_uri": "https://localhost:8080/"
        },
        "outputId": "04db04f2-da5f-4939-97df-6e489c27f3ec"
      },
      "execution_count": null,
      "outputs": [
        {
          "output_type": "stream",
          "name": "stdout",
          "text": [
            "CPU times: user 0 ns, sys: 1.86 ms, total: 1.86 ms\n",
            "Wall time: 1.2 ms\n"
          ]
        },
        {
          "output_type": "execute_result",
          "data": {
            "text/plain": [
              "0.33328333500000007"
            ]
          },
          "metadata": {},
          "execution_count": 23
        }
      ]
    }
  ]
}
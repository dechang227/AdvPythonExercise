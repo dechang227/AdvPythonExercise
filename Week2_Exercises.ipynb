{
 "cells": [
  {
   "cell_type": "markdown",
   "metadata": {
    "id": "W8HrmHj7LN1y"
   },
   "source": [
    "Exercise is meant for you to experiment with cython and numba to see how much efficiency can be obtained by using these two tools"
   ]
  },
  {
   "cell_type": "code",
   "execution_count": 1,
   "metadata": {
    "executionInfo": {
     "elapsed": 260,
     "status": "ok",
     "timestamp": 1660330931940,
     "user": {
      "displayName": "Changshuo Liu",
      "userId": "08519422333410533130"
     },
     "user_tz": 240
    },
    "id": "iv3vfpzxQisM"
   },
   "outputs": [],
   "source": [
    "import numpy as np\n",
    "import seaborn as sb\n",
    "import pandas as pd"
   ]
  },
  {
   "cell_type": "code",
   "execution_count": 2,
   "metadata": {
    "executionInfo": {
     "elapsed": 5,
     "status": "ok",
     "timestamp": 1660328552742,
     "user": {
      "displayName": "Changshuo Liu",
      "userId": "08519422333410533130"
     },
     "user_tz": 240
    },
    "id": "duLFBDZPPheC"
   },
   "outputs": [],
   "source": [
    "class Particle:\n",
    "  def __init__(self, x, y, ang_speed):\n",
    "    self.x = x\n",
    "    self.y = y\n",
    "    self.ang_speed = ang_speed"
   ]
  },
  {
   "cell_type": "code",
   "execution_count": 3,
   "metadata": {
    "executionInfo": {
     "elapsed": 203,
     "status": "ok",
     "timestamp": 1660330902316,
     "user": {
      "displayName": "Changshuo Liu",
      "userId": "08519422333410533130"
     },
     "user_tz": 240
    },
    "id": "eoSyUNXJCZB-"
   },
   "outputs": [],
   "source": [
    "def evolve_wrapper(dt, particles):\n",
    "  timestep = 1\n",
    "  nsteps = int(dt/timestep)\n",
    "  r_i = np.array([[p.x, p.y] for p in particles])\n",
    "  ang_speed = np.array([p.ang_speed for p in particles])\n",
    "  evolve(r_i, ang_speed, timestep, nsteps)\n",
    "\n",
    "  for i, p in enumerate(particles):\n",
    "    p.x, p.y = r_i[i]\n",
    "\n",
    "def evolve(r_i, ang_speed, timestep, nsteps):\n",
    "  v_i = np.empty_like(r_i)\n",
    "  for i in range(nsteps):\n",
    "    norm_i = np.sqrt((r_i ** 2).sum(axis=1))\n",
    "    v_i = r_i[:, [1,0]]\n",
    "    v_i[:, 0] *= -1\n",
    "    v_i /= norm_i[:, np.newaxis]\n",
    "    d_i = timestep * ang_speed[:, np.newaxis] * v_i\n",
    "\n",
    "    r_i += d_i"
   ]
  },
  {
   "cell_type": "code",
   "execution_count": 4,
   "metadata": {
    "executionInfo": {
     "elapsed": 235,
     "status": "ok",
     "timestamp": 1660330962468,
     "user": {
      "displayName": "Changshuo Liu",
      "userId": "08519422333410533130"
     },
     "user_tz": 240
    },
    "id": "H6YiZC1qV6PI"
   },
   "outputs": [],
   "source": [
    "n_particle = 100\n",
    "coord = np.random.randn(n_particle, 3)\n",
    "particles = []\n",
    "for i in range(0, n_particle):\n",
    "  particles.append(Particle(coord[i][0], coord[i][1], coord[i][2]))"
   ]
  },
  {
   "cell_type": "code",
   "execution_count": 5,
   "metadata": {
    "colab": {
     "base_uri": "https://localhost:8080/",
     "height": 296
    },
    "executionInfo": {
     "elapsed": 11,
     "status": "ok",
     "timestamp": 1660330962722,
     "user": {
      "displayName": "Changshuo Liu",
      "userId": "08519422333410533130"
     },
     "user_tz": 240
    },
    "id": "Q6ZsQRA0bM_X",
    "outputId": "ed8d4ba2-1a96-4bd9-be8e-257bdc6040fc"
   },
   "outputs": [
    {
     "data": {
      "text/plain": [
       "<AxesSubplot:xlabel='x', ylabel='y'>"
      ]
     },
     "execution_count": 5,
     "metadata": {},
     "output_type": "execute_result"
    },
    {
     "data": {
      "image/png": "[encoded data removed]",
      "text/plain": [
       "<Figure size 432x288 with 1 Axes>"
      ]
     },
     "metadata": {
      "needs_background": "light"
     },
     "output_type": "display_data"
    }
   ],
   "source": [
    "sb.scatterplot(x='x', y='y', data=pd.DataFrame([[p.x,p.y] for p in particles],columns = ['x', 'y']))"
   ]
  },
  {
   "cell_type": "code",
   "execution_count": 6,
   "metadata": {
    "executionInfo": {
     "elapsed": 3,
     "status": "ok",
     "timestamp": 1660330962939,
     "user": {
      "displayName": "Changshuo Liu",
      "userId": "08519422333410533130"
     },
     "user_tz": 240
    },
    "id": "OecxMgYKbppR"
   },
   "outputs": [],
   "source": [
    "evolve_wrapper(1, particles)"
   ]
  },
  {
   "cell_type": "code",
   "execution_count": 7,
   "metadata": {
    "colab": {
     "base_uri": "https://localhost:8080/",
     "height": 296
    },
    "executionInfo": {
     "elapsed": 234,
     "status": "ok",
     "timestamp": 1660330964561,
     "user": {
      "displayName": "Changshuo Liu",
      "userId": "08519422333410533130"
     },
     "user_tz": 240
    },
    "id": "Pwr0aCHXblyO",
    "outputId": "e1221b1e-7756-4098-ae3b-4a3293002307"
   },
   "outputs": [
    {
     "data": {
      "text/plain": [
       "<AxesSubplot:xlabel='x', ylabel='y'>"
      ]
     },
     "execution_count": 7,
     "metadata": {},
     "output_type": "execute_result"
    },
    {
     "data": {
      "image/png": "[encoded data removed]",
      "text/plain": [
       "<Figure size 432x288 with 1 Axes>"
      ]
     },
     "metadata": {
      "needs_background": "light"
     },
     "output_type": "display_data"
    }
   ],
   "source": [
    "sb.scatterplot(x='x', y='y', data=pd.DataFrame([[p.x,p.y] for p in particles],columns = ['x', 'y']))"
   ]
  },
  {
   "cell_type": "code",
   "execution_count": 8,
   "metadata": {
    "colab": {
     "base_uri": "https://localhost:8080/"
    },
    "executionInfo": {
     "elapsed": 1889,
     "status": "ok",
     "timestamp": 1660330992404,
     "user": {
      "displayName": "Changshuo Liu",
      "userId": "08519422333410533130"
     },
     "user_tz": 240
    },
    "id": "ozTW98facEM6",
    "outputId": "5df3ebeb-b38b-4499-c20d-9dff05dd7c08"
   },
   "outputs": [
    {
     "name": "stdout",
     "output_type": "stream",
     "text": [
      "148 µs ± 264 ns per loop (mean ± std. dev. of 7 runs, 10,000 loops each)\n"
     ]
    }
   ],
   "source": [
    "%timeit evolve_wrapper(1, particles)"
   ]
  },
  {
   "cell_type": "markdown",
   "metadata": {
    "id": "LeOasafdcAjl"
   },
   "source": [
    "Can you rewrite the evolve method to make it faster?"
   ]
  },
  {
   "cell_type": "markdown",
   "metadata": {
    "id": "XZwGol8sbxne"
   },
   "source": [
    "# Cython"
   ]
  },
  {
   "cell_type": "code",
   "execution_count": 11,
   "metadata": {},
   "outputs": [],
   "source": [
    "%load_ext Cython"
   ]
  },
  {
   "cell_type": "code",
   "execution_count": 56,
   "metadata": {},
   "outputs": [],
   "source": [
    "%%cython\n",
    "import numpy as np\n",
    "from libc.math cimport sqrt\n",
    "\n",
    "cdef evolve_cython(double[:, :] r_i, double[:] ang_speed_i, double timestep, int nsteps):\n",
    "    cdef int i, j\n",
    "    cdef int nparticles = r_i.shape[0]\n",
    "    cdef double norm, x, y, vx, vy, dx, dy, ang_speed\n",
    "    for i in range(nsteps):\n",
    "        for j in range(nparticles):\n",
    "            x = r_i[j, 0]\n",
    "            y = r_i[j, 1]\n",
    "            ang_speed = ang_speed_i[j]\n",
    "            \n",
    "            norm = sqrt(x**2 + y**2)\n",
    "            \n",
    "            vx = -y/norm\n",
    "            vy = x/norm\n",
    "            \n",
    "            dx = timestep * ang_speed * vx\n",
    "            dy = timestep * ang_speed * vy\n",
    "            \n",
    "            r_i[j, 0] += dx\n",
    "            r_i[j, 1] += dy\n",
    "            \n",
    "def evolve_cython_wrapper(dt, particles):\n",
    "    timestep = 1\n",
    "    nsteps = int(dt/timestep)\n",
    "    r_i = np.array([[p.x, p.y] for p in particles])\n",
    "    ang_speed_i = np.array([p.ang_speed for p in particles])\n",
    "    evolve_cython(r_i, ang_speed_i, timestep, nsteps)\n",
    "\n",
    "    for i, p in enumerate(particles):\n",
    "        p.x, p.y = r_i[i]"
   ]
  },
  {
   "cell_type": "code",
   "execution_count": 57,
   "metadata": {},
   "outputs": [
    {
     "name": "stdout",
     "output_type": "stream",
     "text": [
      "112 µs ± 225 ns per loop (mean ± std. dev. of 7 runs, 10,000 loops each)\n"
     ]
    }
   ],
   "source": [
    "%timeit evolve_cython_wrapper(1, particles)"
   ]
  },
  {
   "cell_type": "markdown",
   "metadata": {},
   "source": [
    "# Numba"
   ]
  },
  {
   "cell_type": "code",
   "execution_count": 121,
   "metadata": {},
   "outputs": [],
   "source": [
    "import numba as nb\n",
    "def evolve_numba_wrapper(dt, particles):\n",
    "    timestep = 1\n",
    "    nsteps = int(dt/timestep)\n",
    "    r_i = np.array([[p.x, p.y] for p in particles])\n",
    "    ang_speed_i = np.array([p.ang_speed for p in particles])\n",
    "    evolve_numba(r_i, ang_speed_i, timestep, nsteps)\n",
    "\n",
    "    for i, p in enumerate(particles):\n",
    "        p.x, p.y = r_i[i]\n",
    "        \n",
    "@nb.njit\n",
    "def evolve_numba(r_i, ang_speed_i, timestep, nsteps):\n",
    "    for i in range(nsteps):\n",
    "        for j in range(r_i.shape[0]):\n",
    "            x = r_i[j, 0]\n",
    "            y = r_i[j, 1]\n",
    "            ang_speed = ang_speed_i[j]\n",
    "            \n",
    "            norm = np.sqrt(x**2 + y**2)\n",
    "            \n",
    "            vx = -y/norm\n",
    "            vy = x/norm\n",
    "            \n",
    "            dx = timestep * ang_speed * vx\n",
    "            dy = timestep * ang_speed * vy\n",
    "            \n",
    "            r_i[j, 0] += dx\n",
    "            r_i[j, 1] += dy"
   ]
  },
  {
   "cell_type": "code",
   "execution_count": null,
   "metadata": {},
   "outputs": [],
   "source": [
    "%timeit evolve_numba_wrapper(1, particles)"
   ]
  },
  {
   "cell_type": "code",
   "execution_count": null,
   "metadata": {},
   "outputs": [],
   "source": []
  }
 ],
 "metadata": {
  "colab": {
   "authorship_tag": "ABX9TyNLj6PSrVzBIhWRs7E568EY",
   "collapsed_sections": [],
   "name": "Cython + Numba Exercise.ipynb",
   "provenance": []
  },
  "kernelspec": {
   "display_name": "Python 3 (ipykernel)",
   "language": "python",
   "name": "python3"
  },
  "language_info": {
   "codemirror_mode": {
    "name": "ipython",
    "version": 3
   },
   "file_extension": ".py",
   "mimetype": "text/x-python",
   "name": "python",
   "nbconvert_exporter": "python",
   "pygments_lexer": "ipython3",
   "version": "3.9.12"
  }
 },
 "nbformat": 4,
 "nbformat_minor": 1
}

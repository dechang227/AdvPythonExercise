{
  "nbformat": 4,
  "nbformat_minor": 0,
  "metadata": {
    "colab": {
      "provenance": [],
      "collapsed_sections": []
    },
    "kernelspec": {
      "name": "python3",
      "display_name": "Python 3"
    },
    "language_info": {
      "name": "python"
    }
  },
  "cells": [
    {
      "cell_type": "code",
      "execution_count": null,
      "metadata": {
        "id": "ewKb0DoQUtZC"
      },
      "outputs": [],
      "source": [
        "from multiprocessing import Pool\n",
        "from lxml import etree\n",
        "import aiohttp\n",
        "import asyncio\n",
        "import time"
      ]
    },
    {
      "cell_type": "code",
      "source": [
        "!pip install nest_asyncio --quiet\n",
        "import nest_asyncio\n",
        "nest_asyncio.apply()"
      ],
      "metadata": {
        "id": "Kt_f159fOk7o"
      },
      "execution_count": null,
      "outputs": []
    },
    {
      "cell_type": "markdown",
      "source": [
        "Exercise: Use async for http requests and multiprocessing for parsing html. Compare the performance with the practices in the lecture note\n",
        "\n"
      ],
      "metadata": {
        "id": "t4a2mLx-Jy4x"
      }
    },
    {
      "cell_type": "code",
      "source": [
        "urls = ['https://arxiv.org/abs/2201.000%02d'%i for i in range(1, 11)]"
      ],
      "metadata": {
        "id": "yfSBgnkbJv3j"
      },
      "execution_count": null,
      "outputs": []
    },
    {
      "cell_type": "code",
      "source": [
        "htmls: list\n",
        "async def get_html(url):\n",
        "      async with aiohttp.ClientSession() as session:\n",
        "          async with session.request('GET', url) as resp:\n",
        "              html = await resp.read()\n",
        "              htmls.append(html)\n",
        "\n",
        "def parse_html(html, cnt):\n",
        "  title = etree.HTML(html).xpath('//h1[contains(@class, \"title\")]/text()')\n",
        "  print('Title %d: %s' % (cnt,''.join(title)))"
      ],
      "metadata": {
        "id": "3Fp7Rb3rKJZR"
      },
      "execution_count": null,
      "outputs": []
    },
    {
      "cell_type": "markdown",
      "source": [
        "Complete the following routines"
      ],
      "metadata": {
        "id": "laBCHpe8Njhb"
      }
    },
    {
      "cell_type": "code",
      "source": [
        "def main_get_html():\n",
        "  '''\n",
        "  use asyncio\n",
        "  '''\n",
        "  loop = asyncio.get_event_loop()\n",
        "  tasks = [get_html(url) for url in urls]\n",
        "  loop.run_until_complete(asyncio.wait(tasks))\n",
        "\n",
        "def main_parse_html():\n",
        "  '''\n",
        "  use multiprocessing\n",
        "  '''\n",
        "  p = Pool(4)\n",
        "  for i, html in enumerate(htmls):\n",
        "    p.apply_async(parse_html, args=(html, i))\n",
        "  p.close()\n",
        "  p.join()\n",
        "  # pass"
      ],
      "metadata": {
        "id": "CnJNOL5QM514"
      },
      "execution_count": null,
      "outputs": []
    },
    {
      "cell_type": "code",
      "source": [
        "%%time\n",
        "htmls = []\n",
        "main_get_html()\n",
        "main_parse_html()"
      ],
      "metadata": {
        "colab": {
          "base_uri": "https://localhost:8080/"
        },
        "id": "M_1sW-ibNSOt",
        "outputId": "84a1720b-ea89-4e11-9c35-137a86154081"
      },
      "execution_count": null,
      "outputs": [
        {
          "output_type": "stream",
          "name": "stdout",
          "text": [
            "Title 0: Modeling Advection on Directed Graphs using Matérn Gaussian Processes for Traffic Flow\n",
            "Title 3: Simulating local fields in carbon nanotube reinforced composites for infinite strip with voidsTitle 2: Improving Deep Neural Network Classification Confidence using Heatmap-based eXplainable AITitle 1: Robust reliability-based topology optimization under random-field material modelTitle 4: Time-Dependent Duhamel Renormalization method with Multiple Conservation and Dissipation Laws\n",
            "\n",
            "\n",
            "Title 6: Locally finite free space as limiting case of PT-symmetric medium\n",
            "Title 5: A Lightweight and Accurate Spatial-Temporal Transformer for Traffic Forecasting\n",
            "\n",
            "Title 8: A Literature Review on Length of Stay Prediction for Stroke Patients using Machine Learning and Statistical ApproachesTitle 9: Confidence-Aware Multi-Teacher Knowledge Distillation\n",
            "\n",
            "Title 7: AttentionLight: Rethinking queue length and attention mechanism for traffic signal control\n",
            "CPU times: user 89.3 ms, sys: 42.3 ms, total: 132 ms\n",
            "Wall time: 496 ms\n"
          ]
        }
      ]
    },
    {
      "cell_type": "markdown",
      "source": [
        "How about using multi threads for parsing html? Try it out"
      ],
      "metadata": {
        "id": "NfLB7MxxQXgN"
      }
    },
    {
      "cell_type": "code",
      "source": [
        "import threading\n",
        "\n",
        "class ParseHtmlThread(threading.Thread):\n",
        "    def __init__(self, cnt, html):\n",
        "        threading.Thread.__init__(self)\n",
        "        self.cnt = cnt\n",
        "        self.html = html\n",
        "        \n",
        "    def run(self):\n",
        "        title = etree.HTML(self.html).xpath('//h1[contains(@class, \"title\")]/text()')\n",
        "        self.title = ''.join(title)\n",
        "        print('Title %d: %s' % (self.cnt,self.title))\n",
        "\n",
        "\n",
        "UPDATE_INTERVAL = 0.01\n",
        "\n",
        "def process_requests(threads):\n",
        "    def alive_count():\n",
        "        alive = [1 if thread.is_alive() else 0 for thread in threads]\n",
        "        return sum(alive)\n",
        "\n",
        "    while alive_count() > 0:\n",
        "        time.sleep(UPDATE_INTERVAL)"
      ],
      "metadata": {
        "id": "IdXJJ4FxQW4z"
      },
      "execution_count": null,
      "outputs": []
    },
    {
      "cell_type": "code",
      "source": [
        "%%time\n",
        "htmls = []\n",
        "main_get_html()\n",
        "\n",
        "threads = [ParseHtmlThread(cnt, html) for cnt, html in enumerate(htmls)]\n",
        "for thread in threads:\n",
        "    thread.start()\n",
        "process_requests(threads)"
      ],
      "metadata": {
        "colab": {
          "base_uri": "https://localhost:8080/"
        },
        "id": "9whtAreHVf4A",
        "outputId": "cac0a401-421f-4d2b-c480-691cfd3397d0"
      },
      "execution_count": null,
      "outputs": [
        {
          "output_type": "stream",
          "name": "stdout",
          "text": [
            "Title 0: AttentionLight: Rethinking queue length and attention mechanism for traffic signal control\n",
            "Title 1: Modeling Advection on Directed Graphs using Matérn Gaussian Processes for Traffic Flow\n",
            "Title 2: Confidence-Aware Multi-Teacher Knowledge Distillation\n",
            "Title 3: A Lightweight and Accurate Spatial-Temporal Transformer for Traffic Forecasting\n",
            "Title 4: Locally finite free space as limiting case of PT-symmetric medium\n",
            "Title 5: Robust reliability-based topology optimization under random-field material model\n",
            "Title 6: Improving Deep Neural Network Classification Confidence using Heatmap-based eXplainable AI\n",
            "Title 7: Time-Dependent Duhamel Renormalization method with Multiple Conservation and Dissipation Laws\n",
            "Title 8: Simulating local fields in carbon nanotube reinforced composites for infinite strip with voids\n",
            "Title 9: A Literature Review on Length of Stay Prediction for Stroke Patients using Machine Learning and Statistical Approaches\n",
            "CPU times: user 87.8 ms, sys: 7.39 ms, total: 95.2 ms\n",
            "Wall time: 560 ms\n"
          ]
        }
      ]
    }
  ]
}
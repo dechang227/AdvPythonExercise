{
  "cells": [
    {
      "cell_type": "markdown",
      "metadata": {
        "id": "kc5DbBHX4uJi"
      },
      "source": [
        "## Simulate and solve the dining philosophers problem\n",
        "\n",
        "The dining philosophers problem was first introduced by Edgar Dijkstra, a leading pioneer in concurrent programming, in 1965. This problem was first demonstrated using different technical terms (resource contention in computer systems) and was later rephrased by Tony Hoare, a British computer scientist and the inventor of the quicksort sorting algorithm. The problem statement is as follows.\n",
        "\n",
        "Five philosophers sit around a table, and each has a bowl of food in front of them. Placed between these five bowls of food are five forks, so each philosopher has one fork to their left and one fork to their right. This setup is shown in the following diagram:\n",
        "\n",
        "![philo.jpg](attachment:philo.jpg)\n",
        "\n",
        "Each silent philosopher is to alternate between thinking and eating. Each is required to have both of the forks around them to be able to pick up the food from their bowl, and no fork can be shared between two or more different philosophers. When a philosopher finishes eating a specific amount of food, they are to place both of the forks back in their respective, original locations. At this point, the philosophers around that philosopher will be able to use those forks.\n",
        "\n",
        "Since the philosophers are silent and cannot communicate with each other, they have no way to let each other know they need the forks to eat. In other words, the only way for a philosopher to eat is to have both of the forks already available to them. For this problem, a set of instructions must be designed for the philosophers to efficiently switch between eating and thinking so that each philosopher is provided with enough food.\n",
        "\n",
        "Now, a potential approach to this problem would be the following set of instructions:\n",
        "\n",
        "1. A philosopher must think until the fork on their left becomes available. When that happens, the philosopher is to pick it up.\n",
        "2. A philosopher must think until the fork on their right becomes available. When that happens, the philosopher is to pick it up.\n",
        "3. If a philosopher is holding two forks, they will eat a specific amount of food from the bowl in front of them, and then the following will apply:\n",
        "    - Afterward, the philosopher has to put the right fork down in its original place.\n",
        "    - Afterward, the philosopher has to put the left fork down in its original place.\n",
        "4. The process repeats from the first step.\n",
        "\n",
        "The following program defines the philosopher class and simulate the dining philosophers problem in Python."
      ]
    },
    {
      "cell_type": "code",
      "execution_count": null,
      "metadata": {
        "id": "zAdcrA7N4uJo"
      },
      "outputs": [],
      "source": [
        "import threading\n",
        "# The philosopher thread\n",
        "def philosopher(left, right):\n",
        "    while True:\n",
        "        with left:\n",
        "             with right:\n",
        "                 print(f'Philosopher at \\\n",
        "                  {threading.currentThread()} is eating.')\n",
        "# The chopsticks\n",
        "N_FORKS = 5\n",
        "forks = [threading.Lock() for n in range(N_FORKS)]\n",
        "# Create all of the philosophers\n",
        "phils = [ \\\n",
        "  threading.Thread(target=philosopher,args=(forks[n], forks \\\n",
        "    [(n + 1) % N_FORKS])) for n in range(N_FORKS)]\n",
        "# Run all of the philosophers\n",
        "for p in phils:\n",
        "    p.start()"
      ]
    },
    {
      "cell_type": "markdown",
      "metadata": {
        "id": "k72CPZ6a4uJq"
      },
      "source": [
        "Modify the philosopher class and extend the __acquire()__ function in Python to resolve the deadlock situation of previous simulation of the dinning philosopher problem. You may use the built-in __id()__ function in Python to sort lock objects in Python."
      ]
    },
    {
      "cell_type": "code",
      "execution_count": 23,
      "metadata": {
        "colab": {
          "base_uri": "https://localhost:8080/"
        },
        "id": "6E_t0w2o4uJr",
        "outputId": "c19aa775-fd54-4705-9d52-8016f8c7c562"
      },
      "outputs": [
        {
          "output_type": "stream",
          "name": "stdout",
          "text": [
            "Philosopher at           <Thread(Thread-121, started 140225731647232)> is eating.\n",
            "Philosopher at           <Thread(Thread-122, started 140225611507456)> is eating.\n",
            "Philosopher at           <Thread(Thread-123, started 140225731647232)> is eating.\n",
            "Philosopher at           <Thread(Thread-124, started 140225611507456)> is eating.\n",
            "Philosopher at           <Thread(Thread-125, started 140225731647232)> is eating.\n"
          ]
        }
      ],
      "source": [
        "import threading\n",
        "import time\n",
        "# The philosopher thread\n",
        "# def philosopher(left, right):    \n",
        "#     while True:\n",
        "#       if not left.locked():\n",
        "#         left.acquire()\n",
        "#         if not right.locked():\n",
        "#           right.acquire()\n",
        "#           print(f'Philosopher at \\\n",
        "#           {threading.currentThread()} is eating.')\n",
        "#           # time.sleep(1)\n",
        "#           right.release()\n",
        "#           left.release()\n",
        "#           break\n",
        "#         else:\n",
        "#           left.release()\n",
        "\n",
        "def philosopher(left, right):\n",
        "    if id(left) < id(right):\n",
        "      first, second = left, right\n",
        "    else:\n",
        "      first, second = right, left\n",
        "\n",
        "    while True:\n",
        "      with first:\n",
        "        with second:\n",
        "            print(f'Philosopher at \\\n",
        "            {threading.currentThread()} is eating.')\n",
        "            # time.sleep(1)\n",
        "            break\n",
        "\n",
        "# The chopsticks\n",
        "N_FORKS = 5\n",
        "forks = [threading.Lock() for n in range(N_FORKS)]\n",
        "# Create all of the philosophers\n",
        "phils = [ \\\n",
        "  threading.Thread(target=philosopher,args=(forks[n], forks \\\n",
        "    [(n + 1) % N_FORKS])) for n in range(N_FORKS)]\n",
        "# Run all of the philosophers\n",
        "for p in phils:\n",
        "    p.start()"
      ]
    }
  ],
  "metadata": {
    "kernelspec": {
      "display_name": "Python 3",
      "language": "python",
      "name": "python3"
    },
    "language_info": {
      "codemirror_mode": {
        "name": "ipython",
        "version": 3
      },
      "file_extension": ".py",
      "mimetype": "text/x-python",
      "name": "python",
      "nbconvert_exporter": "python",
      "pygments_lexer": "ipython3",
      "version": "3.7.4"
    },
    "colab": {
      "provenance": [],
      "collapsed_sections": []
    }
  },
  "nbformat": 4,
  "nbformat_minor": 0
}